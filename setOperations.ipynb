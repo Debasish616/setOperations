{
 "cells": [
  {
   "cell_type": "code",
   "execution_count": 8,
   "id": "0c9ca083",
   "metadata": {},
   "outputs": [
    {
     "name": "stdout",
     "output_type": "stream",
     "text": [
      "How many element do you want to insert in list 1?  5\n",
      "ENTER INTEGERS\n",
      "1\n",
      "2\n",
      "3\n",
      "4\n",
      "5\n",
      "How many element do you want to insert in list 2?  5\n",
      "ENTER INTEGERS\n",
      "4\n",
      "5\n",
      "6\n",
      "7\n",
      "8\n",
      "Union: {1, 2, 3, 4, 5, 6, 7, 8}\n",
      "Intersection {4, 5}\n",
      "Difference: {1, 2, 3}\n",
      "Symmetric Difference {1, 2, 3, 6, 7, 8}\n"
     ]
    }
   ],
   "source": [
    "n = int(input(\"How many element do you want to insert in list 1?  \"))\n",
    "L1=[]\n",
    "L2=[]\n",
    "print(\"ENTER INTEGERS\")\n",
    "for i in range(0,n):\n",
    "    x=int(input())\n",
    "    L1.append(x)\n",
    "L1=set(L1)\n",
    "\n",
    "n1= int(input(\"How many element do you want to insert in list 2?  \"))\n",
    "print(\"ENTER INTEGERS\")\n",
    "for i in range(0,n1):\n",
    "    y=int(input())\n",
    "    L2.append(y)\n",
    "L2=set(L2)\n",
    "    \n",
    "print(\"Union:\", L1|L2)\n",
    "print(\"Intersection\", L1&L2)\n",
    "print(\"Difference:\",L1-L2)\n",
    "print(\"Symmetric Difference\",L1^L2)"
   ]
  },
  {
   "cell_type": "code",
   "execution_count": null,
   "id": "1efaa592",
   "metadata": {},
   "outputs": [],
   "source": []
  }
 ],
 "metadata": {
  "kernelspec": {
   "display_name": "Python 3",
   "language": "python",
   "name": "python3"
  },
  "language_info": {
   "codemirror_mode": {
    "name": "ipython",
    "version": 3
   },
   "file_extension": ".py",
   "mimetype": "text/x-python",
   "name": "python",
   "nbconvert_exporter": "python",
   "pygments_lexer": "ipython3",
   "version": "3.8.8"
  }
 },
 "nbformat": 4,
 "nbformat_minor": 5
}
